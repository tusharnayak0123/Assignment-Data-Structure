{
  "nbformat": 4,
  "nbformat_minor": 0,
  "metadata": {
    "colab": {
      "provenance": []
    },
    "kernelspec": {
      "name": "python3",
      "display_name": "Python 3"
    },
    "language_info": {
      "name": "python"
    }
  },
  "cells": [
    {
      "cell_type": "markdown",
      "source": [
        "#Assignment: Data Structure"
      ],
      "metadata": {
        "id": "JOa9RwYT6voR"
      }
    },
    {
      "cell_type": "markdown",
      "source": [
        "Q1. What are data structures, and why are they?\n",
        "- Data structures are organized ways of storing and managing data to enable efficient access, modification, and processing. They are fundamental in programming and algorithm design.\n",
        "- Data structure helps in managing large amounts of data systematically."
      ],
      "metadata": {
        "id": "kCmAMLZK60f7"
      }
    },
    {
      "cell_type": "code",
      "source": [
        "'''Q.2 Explain the difference between mutable and immutable data types with examples.\n",
        "Ans- Mutable Data Types: Objects that can be changed after creation.\n",
        "Examples:\n",
        "\n",
        "List:'''\n",
        "\n",
        "my_list = [1, 2, 3]\n",
        "my_list[0] = 10  # Changes the first element\n",
        "\n",
        "'''\n",
        "Immutable Data Types: Objects that cannot be changed after creation. Any modification creates a new object.\n",
        "Examples:\n",
        "\n",
        "String:\n",
        "'''\n",
        "\n",
        "s = \"hello\"\n",
        "s = \"Hello\"  # Creates a new string object\n",
        "\n",
        "# Attempting to modify: s[0] = r # Raises an error\n"
      ],
      "metadata": {
        "id": "LX_Nz8Hg9u6b"
      },
      "execution_count": null,
      "outputs": []
    },
    {
      "cell_type": "markdown",
      "source": [
        "Q3. What are the main differences between lists and tuples in Python?\n",
        "- Lists are mutable& slower, and represented  with square brackets\n",
        "- These are used to hold ordered values.\n",
        "\n",
        "- Tuples are immutable & faster, represented by parantheses, these are used to keep the values which can't be modified such as aadhar card no."
      ],
      "metadata": {
        "id": "S2y80FgO-bip"
      }
    },
    {
      "cell_type": "markdown",
      "source": [
        "Q4. Describe how dictionaries store data.\n",
        "- Dictionaries in Python store data as key-value pairs using a hash table internally:\n",
        "\n",
        "Keys: Unique and hashable objects that serve as identifiers.\n",
        "Values: Any data associated with the keys."
      ],
      "metadata": {
        "id": "QrN-yXm1AMuz"
      }
    },
    {
      "cell_type": "markdown",
      "source": [
        "Q5. Why might you use a set instead of a list in Python.\n",
        "- Uniqueness: A set automatically removes duplicates, ensuring all elements are unique.\n",
        "- Use Cases:\n",
        "Removing duplicates from a dataset."
      ],
      "metadata": {
        "id": "PMbbCbeUAgnx"
      }
    },
    {
      "cell_type": "markdown",
      "source": [
        "Q6. What is a string in Python, and how is it different from a list?\n",
        "- A string in Python is a sequence of characters enclosed within single quotes ('), double quotes (\"), or triple quotes (''' or \"\"\"). Strings are used to represent textual data.\n",
        "- String is immutable where as list is mutable.\n",
        "- String only store characters while List can strore mixed data types."
      ],
      "metadata": {
        "id": "xImNRfnUBaHY"
      }
    },
    {
      "cell_type": "markdown",
      "source": [
        "Q7. How do tuples ensure data integrity in Python?\n",
        "- Tuples contribute to data integrity by providing immutability and a predictable structure.\n",
        "- Immutability:\n",
        "\n",
        "Once created, the contents of a tuple cannot be changed. This ensures that data stored in a tuple remains constant and is not accidentally modified.\n",
        "- Fixed Structure:\n",
        "\n",
        "Tuples enforce a fixed number of elements, preserving the intended structure of the data. This is useful when the position and meaning of elements are critical."
      ],
      "metadata": {
        "id": "Gx1COtFlCVbf"
      }
    },
    {
      "cell_type": "markdown",
      "source": [
        "Q8. What is a hash table, and how does it relate to dictionaries in Python?\n",
        "- A hash table is a data structure that stores key-value pairs, enabling efficient retrieval of values using keys. It achieves this efficiency through hashing, where a hash function converts keys into unique numerical indices (hashes) that determine where the corresponding value is stored in an array-like structure."
      ],
      "metadata": {
        "id": "T6DOYbHaC1Mp"
      }
    },
    {
      "cell_type": "markdown",
      "source": [
        "Q9. Can lists contain different data types in Python?\n",
        "- Yes, lists in Python can contain elements of different data types. Unlike arrays in some programming languages (which typically require uniform data types), Python lists are highly flexible and can store a mix of data types, including integers, strings, floats, other lists, dictionaries, tuples, or even user-defined objects."
      ],
      "metadata": {
        "id": "9CFJrPi6DF7v"
      }
    },
    {
      "cell_type": "markdown",
      "source": [
        "\n",
        "Q10. Explain why strings are immutable in Python?\n",
        "- Strings in Python are immutable, meaning once a string is created, its content cannot be changed. If any modification is attempted, a new string object is created instead of altering the original string. This design choice is intentional and has several practical advantages."
      ],
      "metadata": {
        "id": "enNCbiIoDNsv"
      }
    },
    {
      "cell_type": "markdown",
      "source": [
        "Q11. What advantages do dictionaries offer over lists for certain tasks ?\n",
        "- Dictionaries and lists are both powerful data structures in Python, but they are designed for different use cases. Dictionaries offer several advantages over lists for specific tasks, primarily because they store data as key-value pairs, enabling faster lookups and better organization of related data.\n",
        "\n",
        "\n",
        "\n",
        "\n"
      ],
      "metadata": {
        "id": "V1Gt2dyJFmKG"
      }
    },
    {
      "cell_type": "markdown",
      "source": [
        "Q12. Describe a scenario where using a tuple would be preferable over a list.\n",
        "- Tuples are immutable, meaning their elements cannot be modified after creation. This immutability makes tuples ideal for scenarios where:\n",
        "\n",
        "  - Data Integrity Is Critical:\n",
        "Tuples ensure the data remains constant and cannot be accidentally altered.\n",
        "\n",
        "  - Memory Efficiency:\n",
        "Tuples use less memory than lists, making them more efficient for storing fixed, unchangeable collections of data.\n",
        "\n",
        "  - Hashability:\n",
        "Tuples are hashable (if their elements are hashable) and can be used as keys in dictionaries or elements in sets.\n",
        "\n",
        "  - Semantic Meaning:\n",
        "Tuples often imply a fixed structure, where each position has a specific meaning, like coordinates or function arguments."
      ],
      "metadata": {
        "id": "K52Cz8KyIXZq"
      }
    },
    {
      "cell_type": "markdown",
      "source": [
        "Q13. How do sets handle duplicate values in Python ?\n",
        "- Sets automatically handle duplicate values by ensuring that only unique elements are stored. They are ideal for situations where uniqueness is essential, and they offer fast membership testing, making them a useful tool for eliminating duplicates and managing collections of unique elements in Python."
      ],
      "metadata": {
        "id": "qzs0ynLJIbRe"
      }
    },
    {
      "cell_type": "markdown",
      "source": [
        "Q14. How does the “in” keyword work differently for lists and dictionaries ?\n",
        "- When used with a list, the in keyword checks if an element is present in the list. It searches for the value and returns True if the value is found, and False if not.\n",
        "- When used with a dictionary, the in keyword checks if a given key is present in the dictionary, not the value. The operator checks the keys of the dictionary, and it returns True if the key exists, and False if it does not."
      ],
      "metadata": {
        "id": "EYHrqBVYIa_u"
      }
    },
    {
      "cell_type": "markdown",
      "source": [
        "Q15. Can you modify the elements of a tuple? Explain why or why not ?\n",
        "- A tuple is an immutable data structure, which means that after a tuple is created, you cannot change, add, or remove its elements.\n",
        "This immutability is by design to ensure that tuples can be safely used in contexts where stability and consistency are required, such as in hashing (e.g., using tuples as keys in dictionaries or as elements in sets)."
      ],
      "metadata": {
        "id": "-mmDUIbOIasu"
      }
    },
    {
      "cell_type": "markdown",
      "source": [
        "Q16. What is a nested dictionary, and give an example of its use case?\n",
        "- A nested dictionary is a dictionary that contains one or more dictionaries as its values. This structure allows you to represent more complex data, where each key in the outer dictionary can point to another dictionary, creating a multi-level hierarchical arrangement.\n",
        "- Use case : Storing information about students, where each student has attributes like name, age, and courses."
      ],
      "metadata": {
        "id": "I9HijacnIaT_"
      }
    },
    {
      "cell_type": "markdown",
      "source": [
        "Q17.Describe the time complexity of accessing elements in a dictionary.\n",
        "- In Python, dictionaries are implemented using hash tables. This enables fast lookups, insertions, and deletions based on keys.\n",
        "- Average Case: O(1) for accessing elements by key in a dictionary.\n",
        "-Worst Case: O(n) due to hash collisions, but this is rare in practice due to Python's hash table optimizations."
      ],
      "metadata": {
        "id": "45Sf8dXGK1R0"
      }
    },
    {
      "cell_type": "markdown",
      "source": [
        "Q18.In what situations are lists preferred over dictionaries.\n",
        "- Lists are preferred over dictionaries in situations where:\n",
        "\n",
        "  - You need ordered collections with index-based access.\n",
        "  - The data does not have clear keys and is just a collection of values.\n",
        "  - You need to allow duplicates.\n",
        "  - You don't need the fast key-based lookup feature of dictionaries.\n",
        "  - Simplicity and lower memory usage are more important than key-value mapping."
      ],
      "metadata": {
        "id": "TQTVw3-fK1A6"
      }
    },
    {
      "cell_type": "markdown",
      "source": [
        "Q19.Why are dictionaries considered unordered, and how does that affect data retrieval ?\n",
        "- Dictionaries in Python are considered unordered because the elements in a dictionary (i.e., key-value pairs) do not maintain any specific order. Unlike lists or tuples, where the order of elements is preserved, the order of keys in a dictionary is not guaranteed. This is because dictionaries are implemented using hash tables, and the keys are stored based on their hash values, not their insertion order."
      ],
      "metadata": {
        "id": "WofZdTQlK0ur"
      }
    },
    {
      "cell_type": "markdown",
      "source": [
        "Q20.Explain the difference between a list and a dictionary in terms of data retrieval.\n",
        "- A list is an ordered collection of elements, and data is retrieved using indexes (which are integer positions) that correspond to the element’s position in the list.\n",
        "- A dictionary is an unordered collection of key-value pairs, and data is retrieved using keys instead of indexes.\n"
      ],
      "metadata": {
        "id": "uUEpr8FCK0H2"
      }
    },
    {
      "cell_type": "markdown",
      "source": [
        "#Practical Questions"
      ],
      "metadata": {
        "id": "OUiSrH4ZPDzl"
      }
    },
    {
      "cell_type": "code",
      "source": [
        "#Q1. Write a code to create a string with your name and print it.\n",
        "\n",
        "name= \"Tushar\"\n",
        "print(\"My name is\",name)"
      ],
      "metadata": {
        "colab": {
          "base_uri": "https://localhost:8080/"
        },
        "id": "iHXKiiC7O2KM",
        "outputId": "5d5f7c4b-670f-45c4-ca3a-de8982f314f7"
      },
      "execution_count": null,
      "outputs": [
        {
          "output_type": "stream",
          "name": "stdout",
          "text": [
            "My name is Tushar\n"
          ]
        }
      ]
    },
    {
      "cell_type": "code",
      "source": [
        "#Q2. Write a code to find the length of the string \"Hello World\".\n",
        "\n",
        "a= \"Hello World\"\n",
        "len(a)"
      ],
      "metadata": {
        "colab": {
          "base_uri": "https://localhost:8080/"
        },
        "id": "IoVGD-OpPgAk",
        "outputId": "85028cf9-bc59-41b7-b222-dbbb0131b909"
      },
      "execution_count": null,
      "outputs": [
        {
          "output_type": "execute_result",
          "data": {
            "text/plain": [
              "11"
            ]
          },
          "metadata": {},
          "execution_count": 4
        }
      ]
    },
    {
      "cell_type": "code",
      "source": [
        "#Q3. Write a code to slice the first 3 characters from the string \"Python Programming\".\n",
        "\n",
        "\n",
        "text = \"Python Programming\"\n",
        "\n",
        "sliced_text = text[:3]\n",
        "\n",
        "# Output the result\n",
        "print(sliced_text)\n",
        "\n"
      ],
      "metadata": {
        "colab": {
          "base_uri": "https://localhost:8080/"
        },
        "id": "gvLfp6mBPfxd",
        "outputId": "91bac4a7-11c1-4f8f-bef9-c9e922356438"
      },
      "execution_count": null,
      "outputs": [
        {
          "output_type": "stream",
          "name": "stdout",
          "text": [
            "Pyt\n"
          ]
        }
      ]
    },
    {
      "cell_type": "code",
      "source": [
        "#Q4. Write a code to convert the string \"hello\" to uppercase.\n",
        "\n",
        "text = \"hello\"\n",
        "\n",
        "uppercase_text = text.upper()\n",
        "\n",
        "print(uppercase_text)\n"
      ],
      "metadata": {
        "colab": {
          "base_uri": "https://localhost:8080/"
        },
        "id": "PTSDTzSKPfhg",
        "outputId": "9fa9b46c-6771-4fa7-b62f-d463702c0cb6"
      },
      "execution_count": null,
      "outputs": [
        {
          "output_type": "stream",
          "name": "stdout",
          "text": [
            "HELLO\n"
          ]
        }
      ]
    },
    {
      "cell_type": "code",
      "source": [
        "#Q5. Write a code to replace the word \"apple\" with \"orange\" in the string \"I like apple\".\n",
        "\n",
        "text = \"I like apple\"\n",
        "\n",
        "# Replacing the word \"apple\" with \"orange\"\n",
        "updated_text = text.replace(\"apple\", \"orange\")\n",
        "\n",
        "# result\n",
        "print(updated_text)\n"
      ],
      "metadata": {
        "colab": {
          "base_uri": "https://localhost:8080/"
        },
        "id": "kcrhO3z8PfSW",
        "outputId": "2ccea259-693f-4f0d-f8df-4090e68d5de9"
      },
      "execution_count": null,
      "outputs": [
        {
          "output_type": "stream",
          "name": "stdout",
          "text": [
            "I like orange\n"
          ]
        }
      ]
    },
    {
      "cell_type": "code",
      "source": [
        "#Q6. Write a code to create a list with numbers 1 to 5 and print it.\n",
        "\n",
        "numbers = list(range(1, 6))\n",
        "\n",
        "print(numbers)\n"
      ],
      "metadata": {
        "colab": {
          "base_uri": "https://localhost:8080/"
        },
        "id": "0XVfHNbhRq07",
        "outputId": "136859da-aa63-44d4-f3da-33c95446254c"
      },
      "execution_count": null,
      "outputs": [
        {
          "output_type": "stream",
          "name": "stdout",
          "text": [
            "[1, 2, 3, 4, 5]\n"
          ]
        }
      ]
    },
    {
      "cell_type": "code",
      "source": [
        "#Q7. Write a code to append the number 10 to the list [1, 2, 3, 4].\n",
        "\n",
        "lis = [1, 2, 3, 4]\n",
        "\n",
        "lis.append(10)\n",
        "\n",
        "print(lis)\n"
      ],
      "metadata": {
        "colab": {
          "base_uri": "https://localhost:8080/"
        },
        "id": "KmwcV3lqRqoI",
        "outputId": "6b4c3845-f6bf-48b9-8001-a5d775380797"
      },
      "execution_count": null,
      "outputs": [
        {
          "output_type": "stream",
          "name": "stdout",
          "text": [
            "[1, 2, 3, 4, 10]\n"
          ]
        }
      ]
    },
    {
      "cell_type": "code",
      "source": [
        "#Q8. Write a code to remove the number 3 from the list [1, 2, 3, 4, 5].\n",
        "\n",
        "lis = [1, 2, 3, 4, 5]\n",
        "\n",
        "lis.remove(3)\n",
        "\n",
        "# Printing the updated list\n",
        "print(lis)\n"
      ],
      "metadata": {
        "colab": {
          "base_uri": "https://localhost:8080/"
        },
        "id": "pdchSMMMRqZy",
        "outputId": "45ba9191-1920-4520-8d7c-ee7da0b28fb6"
      },
      "execution_count": null,
      "outputs": [
        {
          "output_type": "stream",
          "name": "stdout",
          "text": [
            "[1, 2, 4, 5]\n"
          ]
        }
      ]
    },
    {
      "cell_type": "code",
      "source": [
        "#Q9. Write a code to access the second element in the list ['a', 'b', 'c', 'd'].\n",
        "\n",
        "letters = ['a', 'b', 'c', 'd']\n",
        "\n",
        "second_element = letters[1]\n",
        "\n",
        "# Printing the second element\n",
        "print(second_element)\n",
        "\n"
      ],
      "metadata": {
        "colab": {
          "base_uri": "https://localhost:8080/"
        },
        "id": "3BRsoFl3RqNj",
        "outputId": "b0b7ff79-efec-4de6-a13b-c09cb96e2d8f"
      },
      "execution_count": null,
      "outputs": [
        {
          "output_type": "stream",
          "name": "stdout",
          "text": [
            "b\n"
          ]
        }
      ]
    },
    {
      "cell_type": "code",
      "source": [
        "#Q10. Write a code to reverse the list [10, 20, 30, 40, 50].\n",
        "\n",
        "l_1 = [10, 20, 30, 40, 50]\n",
        "\n",
        "# Reversing the list\n",
        "l_1.reverse()\n",
        "\n",
        "# Printing the reversed list\n",
        "print(l_1)\n",
        "\n"
      ],
      "metadata": {
        "colab": {
          "base_uri": "https://localhost:8080/"
        },
        "id": "kdbY5HMyRp6m",
        "outputId": "c001fe0b-afa9-4be4-b2f3-7ecbe79125e1"
      },
      "execution_count": null,
      "outputs": [
        {
          "output_type": "stream",
          "name": "stdout",
          "text": [
            "[50, 40, 30, 20, 10]\n"
          ]
        }
      ]
    },
    {
      "cell_type": "code",
      "source": [
        "#Q11. Write a code to create a tuple with the elements 10, 20, 30 and print it.\n",
        "\n",
        "my_tuple = (10, 20, 30)\n",
        "\n",
        "# Printing the tuple\n",
        "print(my_tuple)\n"
      ],
      "metadata": {
        "colab": {
          "base_uri": "https://localhost:8080/"
        },
        "id": "SXsW4B0kTdjn",
        "outputId": "68e00c5c-3e29-42db-a2df-7bfdb3643ea1"
      },
      "execution_count": null,
      "outputs": [
        {
          "output_type": "stream",
          "name": "stdout",
          "text": [
            "(10, 20, 30)\n"
          ]
        }
      ]
    },
    {
      "cell_type": "code",
      "source": [
        "#Q12. Write a code to access the first element of the tuple ('apple', 'banana', 'cherry').\n",
        "\n",
        "fruits = ('apple', 'banana', 'cherry')\n",
        "\n",
        "# Accessing the first element\n",
        "first_element = fruits[0]\n",
        "\n",
        "# Printing the first element\n",
        "print(first_element)\n"
      ],
      "metadata": {
        "colab": {
          "base_uri": "https://localhost:8080/"
        },
        "id": "xV7gVNg7TdUK",
        "outputId": "dcfac397-10ab-4085-a527-b3325362b939"
      },
      "execution_count": null,
      "outputs": [
        {
          "output_type": "stream",
          "name": "stdout",
          "text": [
            "apple\n"
          ]
        }
      ]
    },
    {
      "cell_type": "code",
      "source": [
        "#Q13. Write a code to count how many times the number 2 appears in the tuple (1, 2, 3, 2, 4, 2).\n",
        "\n",
        "my_tuple= (1,2,3,2,4,2)\n",
        "\n",
        "count_of_twos = my_tuple.count(2)\n",
        "\n",
        "count_of_twos\n"
      ],
      "metadata": {
        "id": "dimP-wvATdEg",
        "colab": {
          "base_uri": "https://localhost:8080/"
        },
        "outputId": "5d758c87-f368-470f-89cf-9fd345abcd28"
      },
      "execution_count": 5,
      "outputs": [
        {
          "output_type": "execute_result",
          "data": {
            "text/plain": [
              "3"
            ]
          },
          "metadata": {},
          "execution_count": 5
        }
      ]
    },
    {
      "cell_type": "code",
      "source": [
        "#Q14. Write a code to find the index of the element \"cat\" in the tuple ('dog', 'cat', 'rabbit').\n",
        "\n",
        "my_tuple=(\"dog\",\"cat\",\"rabbit\")\n",
        "\n",
        "# Find the index of the element \"cat\"\n",
        "index_of_cat = my_tuple.index('cat')\n",
        "\n",
        "# Print the result\n",
        "print(f\"The index of 'cat' is: {index_of_cat}\")\n"
      ],
      "metadata": {
        "id": "4_Ym7cqITc2D",
        "colab": {
          "base_uri": "https://localhost:8080/"
        },
        "outputId": "2914b333-44da-47d3-946d-32fcf90b9b8f"
      },
      "execution_count": 6,
      "outputs": [
        {
          "output_type": "stream",
          "name": "stdout",
          "text": [
            "The index of 'cat' is: 1\n"
          ]
        }
      ]
    },
    {
      "cell_type": "code",
      "source": [
        "#Q15. Write a code to check if the element \"banana\" is in the tuple ('apple', 'orange', 'banana').\n",
        "\n",
        "fruits = ('apple', 'orange', 'banana')\n",
        "\n",
        "# Check if \"banana\" is in the tuple\n",
        "if 'banana' in fruits:\n",
        "    print(\"'banana' is present in the tuple.\")\n",
        "else:\n",
        "    print(\"'banana' is not present in the tuple.\")\n"
      ],
      "metadata": {
        "id": "VQJXp4oXTcmT",
        "colab": {
          "base_uri": "https://localhost:8080/"
        },
        "outputId": "d3f90f71-3c8b-4dea-ed2a-c309d5d59227"
      },
      "execution_count": 1,
      "outputs": [
        {
          "output_type": "stream",
          "name": "stdout",
          "text": [
            "'banana' is present in the tuple.\n"
          ]
        }
      ]
    },
    {
      "cell_type": "code",
      "source": [
        "#Q16. Write a code to create a set with the elements 1, 2, 3, 4, 5 and print it.\n",
        "\n",
        "my_set = {1, 2, 3, 4, 5}\n",
        "\n",
        "print(\"The set is:\", my_set)\n"
      ],
      "metadata": {
        "colab": {
          "base_uri": "https://localhost:8080/"
        },
        "id": "KJ8g7xpxUqBE",
        "outputId": "5fb09554-1dbe-46a3-f0d1-989cd8e09b82"
      },
      "execution_count": 2,
      "outputs": [
        {
          "output_type": "stream",
          "name": "stdout",
          "text": [
            "The set is: {1, 2, 3, 4, 5}\n"
          ]
        }
      ]
    },
    {
      "cell_type": "code",
      "source": [
        "#Q17. Write a code to add the element 6 to the set {1, 2, 3, 4}.\n",
        "\n",
        "my_set = {1, 2, 3, 4}\n",
        "\n",
        "my_set.add(6)\n",
        "\n",
        "print(\"The updated set is:\", my_set)\n"
      ],
      "metadata": {
        "colab": {
          "base_uri": "https://localhost:8080/"
        },
        "id": "ahPoeZwVSOn1",
        "outputId": "496cb55a-170e-4d63-af68-1f493c4dffc1"
      },
      "execution_count": 3,
      "outputs": [
        {
          "output_type": "stream",
          "name": "stdout",
          "text": [
            "The updated set is: {1, 2, 3, 4, 6}\n"
          ]
        }
      ]
    },
    {
      "cell_type": "code",
      "source": [
        "#Q18. Write a code to create a tuple with the elements 10, 20, 30 and print it.\n",
        "\n",
        "my_tuple = (10, 20, 30)\n",
        "\n",
        "print(\"The tuple is:\", my_tuple)\n"
      ],
      "metadata": {
        "colab": {
          "base_uri": "https://localhost:8080/"
        },
        "id": "D42UTUpMSOdo",
        "outputId": "dc27f6c7-be0f-4014-d9df-a505ae2581db"
      },
      "execution_count": 4,
      "outputs": [
        {
          "output_type": "stream",
          "name": "stdout",
          "text": [
            "The tuple is: (10, 20, 30)\n"
          ]
        }
      ]
    },
    {
      "cell_type": "code",
      "source": [
        "#Q19. Write a code to access the first element of the tuple ('apple', 'banana', 'cherry').\n",
        "\n",
        "fruits = ('apple', 'banana', 'cherry')\n",
        "\n",
        "first_element = fruits[0]\n",
        "\n",
        "print(\"The first element of the tuple is:\", first_element)\n"
      ],
      "metadata": {
        "colab": {
          "base_uri": "https://localhost:8080/"
        },
        "id": "j_WN9h5jSOVO",
        "outputId": "81972833-61a8-4e31-9590-675a3107914f"
      },
      "execution_count": 5,
      "outputs": [
        {
          "output_type": "stream",
          "name": "stdout",
          "text": [
            "The first element of the tuple is: apple\n"
          ]
        }
      ]
    },
    {
      "cell_type": "code",
      "source": [
        "#Q20. Write a code to count how many times the number 2 appears in the tuple (1, 2, 3, 2, 4, 2).\n",
        "\n",
        "numbers = (1, 2, 3, 2, 4, 2)\n",
        "\n",
        "count_of_2 = numbers.count(2)\n",
        "\n",
        "# Print the count\n",
        "print(\"The number 2 appears\", count_of_2, \"times in the tuple.\")\n"
      ],
      "metadata": {
        "colab": {
          "base_uri": "https://localhost:8080/"
        },
        "id": "i4-eErA3SONF",
        "outputId": "bb02dd59-ca0e-4d22-c5f6-61720927256e"
      },
      "execution_count": 6,
      "outputs": [
        {
          "output_type": "stream",
          "name": "stdout",
          "text": [
            "The number 2 appears 3 times in the tuple.\n"
          ]
        }
      ]
    },
    {
      "cell_type": "code",
      "source": [
        "#Q21. Write a code to find the index of the element \"cat\" in the tuple ('dog', 'cat', 'rabbit').\n",
        "\n",
        "animals = ('dog', 'cat', 'rabbit')\n",
        "\n",
        "# Find the index of the element \"cat\"\n",
        "index_of_cat = animals.index('cat')\n",
        "\n",
        "# Print the result\n",
        "print(\"The index of 'cat' is:\", index_of_cat)\n"
      ],
      "metadata": {
        "colab": {
          "base_uri": "https://localhost:8080/"
        },
        "id": "MXsrfNtkSOD1",
        "outputId": "17bbff51-04ff-414b-9756-4a3f4034691a"
      },
      "execution_count": 7,
      "outputs": [
        {
          "output_type": "stream",
          "name": "stdout",
          "text": [
            "The index of 'cat' is: 1\n"
          ]
        }
      ]
    },
    {
      "cell_type": "code",
      "source": [
        "#Q22. Write a code to check if the element \"banana\" is in the tuple ('apple', 'orange', 'banana').\n",
        "\n",
        "fruits = ('apple', 'orange', 'banana')\n",
        "\n",
        "# Check if \"banana\" is in the tuple\n",
        "if 'banana' in fruits:\n",
        "    print(\"'banana' is present in the tuple.\")\n",
        "else:\n",
        "    print(\"'banana' is not present in the tuple.\")\n"
      ],
      "metadata": {
        "colab": {
          "base_uri": "https://localhost:8080/"
        },
        "id": "xHmGdWV9SKVX",
        "outputId": "e933f68e-08bd-4728-ade9-560fe12dc20c"
      },
      "execution_count": 8,
      "outputs": [
        {
          "output_type": "stream",
          "name": "stdout",
          "text": [
            "'banana' is present in the tuple.\n"
          ]
        }
      ]
    },
    {
      "cell_type": "code",
      "source": [
        "#Q23. Write a code to create a set with the elements 1, 2, 3, 4, 5 and print it.\n",
        "\n",
        "my_set = {1, 2, 3, 4, 5}\n",
        "\n",
        "# Print the set\n",
        "print(\"The set is:\", my_set)\n",
        "\n"
      ],
      "metadata": {
        "colab": {
          "base_uri": "https://localhost:8080/"
        },
        "id": "JkA3fMkpSKHf",
        "outputId": "e45f4a47-7499-42d5-a6d4-170f403715f9"
      },
      "execution_count": 9,
      "outputs": [
        {
          "output_type": "stream",
          "name": "stdout",
          "text": [
            "The set is: {1, 2, 3, 4, 5}\n"
          ]
        }
      ]
    },
    {
      "cell_type": "code",
      "source": [
        "#Q24. Write a code to add the element 6 to the set {1, 2, 3, 4}.\n",
        "\n",
        "my_set = {1, 2, 3, 4}\n",
        "\n",
        "# Add the element 6 to the set\n",
        "my_set.add(6)\n",
        "\n",
        "# Print the updated set\n",
        "print(\"The updated set is:\", my_set)\n"
      ],
      "metadata": {
        "colab": {
          "base_uri": "https://localhost:8080/"
        },
        "id": "z_wVVTm5SJ_a",
        "outputId": "36cc3e04-a444-441b-fdcd-f8cd6a7cf2d3"
      },
      "execution_count": 10,
      "outputs": [
        {
          "output_type": "stream",
          "name": "stdout",
          "text": [
            "The updated set is: {1, 2, 3, 4, 6}\n"
          ]
        }
      ]
    }
  ]
}